{
 "cells": [
  {
   "cell_type": "markdown",
   "metadata": {
    "slideshow": {
     "slide_type": "slide"
    }
   },
   "source": [
    "# Overview of Jupyter Notebook"
   ]
  },
  {
   "cell_type": "markdown",
   "metadata": {
    "slideshow": {
     "slide_type": "slide"
    }
   },
   "source": [
    "# What is Jupyter Notebook?\n",
    "\n",
    "Free, open source software that lets you write code interactively and add text commentary - all within a browser. "
   ]
  },
  {
   "cell_type": "markdown",
   "metadata": {
    "slideshow": {
     "slide_type": "slide"
    }
   },
   "source": [
    "# How does it work?\n",
    "\n",
    "* work within a “notebook”\n",
    "* notebooks consist of \"cells\""
   ]
  },
  {
   "cell_type": "markdown",
   "metadata": {
    "slideshow": {
     "slide_type": "slide"
    }
   },
   "source": [
    "### code cells\n",
    "\n",
    "* write and edit code\n",
    "* execute code and view output "
   ]
  },
  {
   "cell_type": "markdown",
   "metadata": {
    "slideshow": {
     "slide_type": "slide"
    }
   },
   "source": [
    "### Markdown cells \n",
    "\n",
    "* for text not meant to be executed\n",
    "* use to narrate your code (or write about anything!)\n",
    "* format using the *Markdown* markup language"
   ]
  },
  {
   "cell_type": "markdown",
   "metadata": {
    "slideshow": {
     "slide_type": "slide"
    }
   },
   "source": [
    "### raw cells\n",
    "\n",
    "* same purpose as Markdown cells, but plain text"
   ]
  },
  {
   "cell_type": "markdown",
   "metadata": {
    "slideshow": {
     "slide_type": "subslide"
    }
   },
   "source": [
    "### Notebook document format\n",
    "\n",
    "* save files as “notebook documents” \n",
    "* code and text packaged in one file\n",
    "* text files with `.ipynb` extension (based on JSON format)"
   ]
  },
  {
   "cell_type": "code",
   "execution_count": 1,
   "metadata": {},
   "outputs": [
    {
     "ename": "SyntaxError",
     "evalue": "invalid syntax (<ipython-input-1-f5ffbda839b3>, line 3)",
     "output_type": "error",
     "traceback": [
      "\u001b[0;36m  File \u001b[0;32m\"<ipython-input-1-f5ffbda839b3>\"\u001b[0;36m, line \u001b[0;32m3\u001b[0m\n\u001b[0;31m    * kernels are the power behind your notebooks\u001b[0m\n\u001b[0m              ^\u001b[0m\n\u001b[0;31mSyntaxError\u001b[0m\u001b[0;31m:\u001b[0m invalid syntax\n"
     ]
    }
   ],
   "source": [
    "### powered by the kernel\n",
    "\n",
    "* kernels are the power behind your notebooks\n",
    "* make it possible to run code interactively\n",
    "* allow variables assigned in one cell to remain available to other cells (until you restart the kernel)"
   ]
  },
  {
   "cell_type": "markdown",
   "metadata": {
    "slideshow": {
     "slide_type": "slide"
    }
   },
   "source": [
    "# What’s to love about Jupyter Notebooks? "
   ]
  },
  {
   "cell_type": "markdown",
   "metadata": {
    "slideshow": {
     "slide_type": "slide"
    }
   },
   "source": [
    "## help you *really* get to know your code\n",
    "\n",
    "* isolate & run sections of code independently\n",
    "* …or run all of it in succession\n",
    "* view output instantly - no need to `print()`\n",
    "* makes it easier to find and fix bugs\n",
    "* compare multiple solutions to a problem"
   ]
  },
  {
   "cell_type": "markdown",
   "metadata": {
    "slideshow": {
     "slide_type": "slide"
    }
   },
   "source": [
    "### flexibility\n",
    "\n",
    "* add and remove cells\n",
    "* rearrange the order\n",
    "* split or merge cells\n",
    "* switch between code, Markdown, and raw cell types"
   ]
  },
  {
   "cell_type": "markdown",
   "metadata": {
    "slideshow": {
     "slide_type": "fragment"
    }
   },
   "source": [
    "### friendliness\n",
    "\n",
    "* demo code without scaring non-coders!\n",
    "* easy to install, less frustrating than IDEs\n",
    "* share new techniques with other coders"
   ]
  },
  {
   "cell_type": "markdown",
   "metadata": {
    "slideshow": {
     "slide_type": "fragment"
    }
   },
   "source": [
    "### makes boring things shinier!\n",
    "\n",
    "* presents well \n",
    "* “renderers” are ready-made user interfaces for popular Python tools \n",
    "* built-in renderer for viewing Pandas DataFrames"
   ]
  },
  {
   "cell_type": "markdown",
   "metadata": {
    "slideshow": {
     "slide_type": "subslide"
    }
   },
   "source": [
    "### not limited to just Python…\n",
    "\n",
    "* supports 40+ programming languages\n",
    "* C++, Java, Typescript/Javascript, R, Julia, Scala and more...  "
   ]
  },
  {
   "cell_type": "markdown",
   "metadata": {
    "slideshow": {
     "slide_type": "fragment"
    }
   },
   "source": [
    "## Who is it for? \n",
    "* anyone who works with code, not just software developers\n",
    "* teachers & students - view & execute code, take notes\n",
    "* widely use by data scientists, analysts, journalists "
   ]
  },
  {
   "cell_type": "markdown",
   "metadata": {
    "slideshow": {
     "slide_type": "slide"
    }
   },
   "source": [
    "# Where does it live?"
   ]
  },
  {
   "cell_type": "markdown",
   "metadata": {
    "slideshow": {
     "slide_type": "slide"
    }
   },
   "source": [
    "### the software\n",
    "\n",
    "* installed on your computer"
   ]
  },
  {
   "cell_type": "markdown",
   "metadata": {
    "slideshow": {
     "slide_type": "slide"
    }
   },
   "source": [
    "### data files \n",
    "\n",
    "* `.ipynb` files stored locally (default installation)\n",
    "* access notebooks in browser, but they live on your computer\n",
    "* doesn’t send your data “out” - *your computer is the server*\n",
    "* can also run notebook files (.ipynb) in VS code, view static version in github."
   ]
  },
  {
   "cell_type": "markdown",
   "metadata": {
    "slideshow": {
     "slide_type": "slide"
    }
   },
   "source": [
    "# Getting started\n",
    "\n",
    "### Install\n",
    "\n",
    "* pip install \n",
    "\n",
    "### Start up a notebook server \n",
    "\n",
    "* command line: \n",
    "`$ jupyter lab`\n",
    "...prints some info in console, opens browser, takes you to your ‘dashboard’\n",
    "\n",
    "### Open a notebook\n",
    "\n",
    "* select from notebook list area \n",
    "* or…drag and drop into notebook list area (.ipynb)\n",
    "* or…open file from command line\n",
    "\n",
    "### Create a notebook\n",
    "\n",
    "* File > New > Notebook\n",
    "\n",
    "### Close your notebook!\n",
    "\n",
    "* File > Shutdown > Logout \n",
    "* Must “Shutdown” otherwise kernel remains active!"
   ]
  },
  {
   "cell_type": "markdown",
   "metadata": {
    "slideshow": {
     "slide_type": "slide"
    }
   },
   "source": [
    "# More fun with Jupyter"
   ]
  },
  {
   "cell_type": "markdown",
   "metadata": {
    "slideshow": {
     "slide_type": "slide"
    }
   },
   "source": [
    "### General Data Visualization \n",
    "\n",
    "[Vega, Vega-Lite & Friends ](https://vega.github.io/)  \n",
    "[Altair and Friends](https://altair-viz.github.io/user_guide/display_frontends.html#:~:text=Altair%20charts%20work%20out%2Dof,load%20the%20required%20javascript%20libraries.)"
   ]
  },
  {
   "cell_type": "markdown",
   "metadata": {
    "slideshow": {
     "slide_type": "slide"
    }
   },
   "source": [
    "### Mapping & Geospatial Data\n",
    "\n",
    "[KeplerGL](https://kepler.gl/)\n",
    "\n",
    "[DataShader](https://datashader.org/#)"
   ]
  },
  {
   "cell_type": "markdown",
   "metadata": {
    "slideshow": {
     "slide_type": "slide"
    }
   },
   "source": [
    "### For Beautifying the Boring \n",
    "\n",
    "[Perspective](https://perspective.finos.org/)\n",
    "Offers Jupyter plugins that drives a powerful data analysis engine. Datagrid is epecially nice for viewing tabular data like Pandas DataFrames, .csv files, etc.\n",
    "\n",
    "[RISE](https://rise.readthedocs.io/en/stable/) - turns your Jupyter Notebooks into Reveal.js presentations "
   ]
  },
  {
   "cell_type": "markdown",
   "metadata": {
    "slideshow": {
     "slide_type": "slide"
    }
   },
   "source": [
    "### Progress bars & other widgets\n",
    "\n",
    "https://github.com/tqdm/tqdm "
   ]
  },
  {
   "cell_type": "markdown",
   "metadata": {
    "slideshow": {
     "slide_type": "slide"
    }
   },
   "source": [
    "# Resources\n",
    "\n",
    "## Links\n",
    "\n",
    "[JupyterLab Installation](https://jupyterlab.readthedocs.io/en/stable/getting_started/installation.html)\n",
    "\n",
    "[Markdown Reference](https://commonmark.org/help/) - “Learn Markdown in 60 Seconds”\n",
    "\n",
    "[Binder](https://mybinder.org/) - “Turn a Git repo into a collection of interactive notebooks”\n",
    "\n",
    "\n",
    "## Command line commands:\n",
    "\n",
    "Start up JupyterLab:\n",
    "`$ jupyter lab`\n",
    "\n",
    "Start up an old school Jupyter Notebook server \n",
    "`$ jupyter notebook`\n",
    "\n",
    "Open existing notebook from command line: \n",
    "`$ jupyter notebook my_notebook.ipynb`"
   ]
  }
 ],
 "metadata": {
  "kernelspec": {
   "display_name": "Python 3",
   "language": "python",
   "name": "python3"
  },
  "language_info": {
   "codemirror_mode": {
    "name": "ipython",
    "version": 3
   },
   "file_extension": ".py",
   "mimetype": "text/x-python",
   "name": "python",
   "nbconvert_exporter": "python",
   "pygments_lexer": "ipython3",
   "version": "3.8.5"
  }
 },
 "nbformat": 4,
 "nbformat_minor": 4
}
